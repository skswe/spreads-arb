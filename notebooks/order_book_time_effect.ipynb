{
 "cells": [
  {
   "cell_type": "code",
   "execution_count": null,
   "metadata": {},
   "outputs": [],
   "source": [
    "import pandas as pd\n",
    "import numpy as np\n",
    "import matplotlib.pyplot as plt\n",
    "y = pd.read_parquet(\"/home/stefano/dev/active/spreads-arb/data/tick_quotes/okex/1INCH.parquet\").set_index(\"timestamp\")"
   ]
  },
  {
   "cell_type": "code",
   "execution_count": null,
   "metadata": {},
   "outputs": [],
   "source": [
    "y.resample(\"1s\").mean()"
   ]
  },
  {
   "cell_type": "code",
   "execution_count": null,
   "metadata": {},
   "outputs": [],
   "source": [
    "y.resample(\"1s\").mean().interpolate(\"time\")"
   ]
  },
  {
   "cell_type": "code",
   "execution_count": null,
   "metadata": {},
   "outputs": [],
   "source": [
    "import plotly.graph_objects as go\n",
    "import pandas as pd\n",
    "import numpy as np\n",
    "\n",
    "# Assuming you have a pandas Series named y_real\n",
    "\n",
    "# Create a copy of y_real with some NaN values\n",
    "y_real = y.iloc[:10000].ask_price\n",
    "y_agg = y.iloc[:10000].ask_price.resample(\"3s\").transform(\"mean\").interpolate(\"nearest\")\n",
    "y_agg_smoothed = y.iloc[:10000].ask_price.resample(\"3s\").agg(\"mean\").interpolate(\"nearest\")\n",
    "y_dummy = y_real.copy()\n",
    "y_dummy[np.random.rand(*y_dummy.shape) < 0.5] = np.nan\n",
    "\n",
    "# Create the Plotly figure\n",
    "fig = go.Figure()\n",
    "\n",
    "# Plot the interpolated data\n",
    "fig.add_trace(go.Scatter(x=y_dummy.index, y=y_dummy, mode=\"lines\", name=\"y_dummy\"))\n",
    "fig.add_trace(go.Scatter(x=y_agg.index, y=y_agg, mode=\"lines\", name=\"y_agg\"))\n",
    "fig.add_trace(go.Scatter(x=y_agg_smoothed.index, y=y_agg_smoothed, mode=\"lines\", name=\"y_agg_smoothed\"))\n",
    "fig.add_trace(go.Scatter(x=y_real.index, y=y_real, mode=\"lines\", name=\"y_real\"))\n",
    "\n",
    "# Set axes labels and title\n",
    "fig.update_layout(\n",
    "    height=800,\n",
    "    width=1800,\n",
    "    hovermode=\"x unified\",\n",
    "    hoverlabel={\"namelength\": -1},\n",
    ")\n",
    "\n",
    "# Show the plot\n",
    "fig.show()"
   ]
  },
  {
   "cell_type": "code",
   "execution_count": null,
   "metadata": {},
   "outputs": [],
   "source": [
    "y_new = y.ask_price.resample(\"3s\").agg(\"mean\").interpolate(\"nearest\")"
   ]
  },
  {
   "cell_type": "code",
   "execution_count": null,
   "metadata": {},
   "outputs": [],
   "source": [
    "(y_new - y_new.shift(1)).describe()"
   ]
  },
  {
   "cell_type": "code",
   "execution_count": null,
   "metadata": {},
   "outputs": [],
   "source": [
    "y_agg - y_real"
   ]
  },
  {
   "cell_type": "code",
   "execution_count": null,
   "metadata": {},
   "outputs": [],
   "source": [
    "y_agg"
   ]
  },
  {
   "cell_type": "code",
   "execution_count": null,
   "metadata": {},
   "outputs": [],
   "source": []
  },
  {
   "cell_type": "code",
   "execution_count": null,
   "metadata": {},
   "outputs": [],
   "source": [
    "y_real.resample(\"1s\").transform(\"mean\")"
   ]
  },
  {
   "cell_type": "code",
   "execution_count": null,
   "metadata": {},
   "outputs": [],
   "source": [
    "y_unrounded"
   ]
  },
  {
   "cell_type": "code",
   "execution_count": null,
   "metadata": {},
   "outputs": [],
   "source": [
    "y_dummy = y.iloc[:500].ask_amount\n",
    "time = y_dummy.interpolate(method=\"time\")\n",
    "nearest = y_dummy.interpolate(method=\"nearest\")\n",
    "\n",
    "\n",
    "(y_dummy == time).mean()"
   ]
  },
  {
   "cell_type": "code",
   "execution_count": null,
   "metadata": {},
   "outputs": [],
   "source": [
    "(y_dummy == nearest).mean()"
   ]
  },
  {
   "cell_type": "code",
   "execution_count": null,
   "metadata": {},
   "outputs": [],
   "source": [
    "help(pd.DataFrame.interpolate)"
   ]
  }
 ],
 "metadata": {
  "kernelspec": {
   "display_name": "spread-arb",
   "language": "python",
   "name": "python3"
  },
  "language_info": {
   "codemirror_mode": {
    "name": "ipython",
    "version": 3
   },
   "file_extension": ".py",
   "mimetype": "text/x-python",
   "name": "python",
   "nbconvert_exporter": "python",
   "pygments_lexer": "ipython3",
   "version": "3.9.12"
  }
 },
 "nbformat": 4,
 "nbformat_minor": 2
}
