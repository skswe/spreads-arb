{
 "cells": [
  {
   "cell_type": "code",
   "execution_count": null,
   "metadata": {},
   "outputs": [],
   "source": [
    "%cd /home/stefano/dev/active/spreads-arb\n",
    "%load_ext line_profiler\n",
    "\n",
    "import itertools\n",
    "import logging\n",
    "import os\n",
    "import pickle\n",
    "from datetime import date, datetime, timedelta\n",
    "\n",
    "import cryptomart as cm\n",
    "import numpy as np\n",
    "import pandas as pd\n",
    "import plotly.graph_objects as go\n",
    "import requests\n",
    "import vectorbt as vbt\n",
    "\n",
    "import argparse\n",
    "import os\n",
    "import pickle\n",
    "\n",
    "import cryptomart as cm\n",
    "import pandas as pd\n",
    "from app.data_prep.dummy import dummy_bid_ask_spreads\n",
    "from app.data_prep.real import all_bid_ask_spreads, all_funding_rates, all_ohlcv, get_fee_info\n",
    "from app import util\n",
    "from app.feeds import Spread\n",
    "\n",
    "import app\n",
    "\n",
    "identifier = \"spreads-arb-v2\"\n",
    "\n",
    "# spreads = pd.read_pickle(\"/home/stefano/dev/active/spreads-arb/data/granular_spreads.pkl\")\n",
    "# spread = pickle.loads(spreads.iloc[0].spread)\n",
    "# res = app.BacktestRunner(\n",
    "#     log_dir=os.path.join(\n",
    "#         os.getenv(\"ACTIVE_DEV_PATH\", \"/home/stefano/development/active_dev\"), \"logs\", \"spreads-arb-v2\"\n",
    "#     ),\n",
    "#     vbt_function=app.vbt.chained_quotes,\n",
    "#     use_slippage=False,\n",
    "#     use_funding_rate=False,\n",
    "#     profitable_only=True,\n",
    "#     z_score_thresholds=(0, 1),\n",
    "#     z_score_period=30,\n",
    "# ).run_quotes(spreads)"
   ]
  },
  {
   "cell_type": "code",
   "execution_count": null,
   "metadata": {},
   "outputs": [],
   "source": [
    "spread.zscore(column=\"mid_price\", period=30).head(200)"
   ]
  },
  {
   "cell_type": "code",
   "execution_count": null,
   "metadata": {},
   "outputs": [],
   "source": [
    "\n",
    "leg_0_bid = np.array(\n",
    "    spreads.apply(lambda s: pickle.loads(s.spread).underlying_col(\"bid_price\").T.iloc[0], axis=1)\n",
    ")\n",
    "leg_1_bid = np.array(\n",
    "    spreads.apply(lambda s: pickle.loads(s.spread).underlying_col(\"bid_price\").T.iloc[1], axis=1)\n",
    ")\n",
    "bid_prices = np.concatenate([leg_0_bid, leg_1_bid], axis=0).T\n",
    "bid_prices = np.vstack((np.full_like(bid_prices[:29], np.nan), bid_prices))\n",
    "        \n",
    "leg_0_ask = np.array(\n",
    "    spreads.apply(lambda s: pickle.loads(s.spread).underlying_col(\"ask_price\").T.iloc[0], axis=1)\n",
    ")\n",
    "leg_1_ask = np.array(\n",
    "    spreads.apply(lambda s: pickle.loads(s.spread).underlying_col(\"ask_price\").T.iloc[1], axis=1)\n",
    ")\n",
    "ask_prices = np.concatenate([leg_0_ask, leg_1_ask], axis=0).T\n",
    "ask_prices = np.vstack((np.full_like(ask_prices[:29], np.nan), ask_prices))\n",
    "        \n",
    "leg_0_bid_sz = np.array(\n",
    "    spreads.apply(lambda s: pickle.loads(s.spread).underlying_col(\"bid_amount\").T.iloc[0], axis=1)\n",
    ")\n",
    "leg_1_bid_sz = np.array(\n",
    "    spreads.apply(lambda s: pickle.loads(s.spread).underlying_col(\"bid_amount\").T.iloc[1], axis=1)\n",
    ")\n",
    "bid_sizes = np.concatenate([leg_0_bid_sz, leg_1_bid_sz], axis=0).T\n",
    "bid_sizes = np.vstack((np.full_like(bid_sizes[:29], np.nan), bid_sizes))\n",
    "        \n",
    "leg_0_ask_sz = np.array(\n",
    "    spreads.apply(lambda s: pickle.loads(s.spread).underlying_col(\"ask_amount\").T.iloc[0], axis=1)\n",
    ")\n",
    "leg_1_ask_sz = np.array(\n",
    "    spreads.apply(lambda s: pickle.loads(s.spread).underlying_col(\"ask_amount\").T.iloc[1], axis=1)\n",
    ")\n",
    "ask_sizes = np.concatenate([leg_0_ask_sz, leg_1_ask_sz], axis=0).T\n",
    "ask_sizes = np.vstack((np.full_like(ask_sizes[:29], np.nan), ask_sizes))\n",
    "\n",
    "\n",
    "leg_0_mid = np.array(\n",
    "    spreads.apply(lambda s: pickle.loads(s.spread).underlying_col(\"mid_price\").T.iloc[0], axis=1)\n",
    ")\n",
    "leg_1_mid = np.array(\n",
    "    spreads.apply(lambda s: pickle.loads(s.spread).underlying_col(\"mid_price\").T.iloc[1], axis=1)\n",
    ")\n",
    "mid_prices = np.concatenate([leg_0_mid, leg_1_mid], axis=0).T\n",
    "mid_prices = np.vstack((np.full_like(mid_prices[:29], np.nan), mid_prices))\n",
    "\n",
    "zscore = np.array(\n",
    "    spreads.apply(lambda s: pickle.loads(s.spread).zscore(\"bid_price\", 30), axis=1)\n",
    ").T"
   ]
  },
  {
   "cell_type": "code",
   "execution_count": null,
   "metadata": {},
   "outputs": [],
   "source": [
    "bid_prices.nbytes / 1024 / 1024"
   ]
  },
  {
   "cell_type": "code",
   "execution_count": null,
   "metadata": {},
   "outputs": [],
   "source": [
    "bid_prices.shape"
   ]
  },
  {
   "cell_type": "code",
   "execution_count": null,
   "metadata": {},
   "outputs": [],
   "source": [
    "current_zscore = zscore[593]"
   ]
  },
  {
   "cell_type": "code",
   "execution_count": null,
   "metadata": {},
   "outputs": [],
   "source": [
    "direction = np.where(np.abs(current_zscore) > 1, -np.sign(current_zscore), 0)"
   ]
  },
  {
   "cell_type": "code",
   "execution_count": null,
   "metadata": {},
   "outputs": [],
   "source": [
    "direction"
   ]
  },
  {
   "cell_type": "code",
   "execution_count": null,
   "metadata": {},
   "outputs": [],
   "source": [
    "ask_price = ask_prices[593]\n",
    "ask_size = ask_sizes[593]\n",
    "bid_price = bid_prices[593]\n",
    "bid_size = bid_sizes[593]"
   ]
  },
  {
   "cell_type": "code",
   "execution_count": null,
   "metadata": {},
   "outputs": [],
   "source": [
    "leg_0_sizes = np.where(direction == 1, bid_size[:100], ask_size[:100])\n",
    "leg_1_sizes = np.where(direction == 1, bid_size[100:], ask_size[100:])"
   ]
  },
  {
   "cell_type": "code",
   "execution_count": null,
   "metadata": {},
   "outputs": [],
   "source": [
    "leg_0_sizes"
   ]
  },
  {
   "cell_type": "code",
   "execution_count": null,
   "metadata": {},
   "outputs": [],
   "source": [
    "sizes = np.vstack((leg_0_sizes, leg_1_sizes)).T\n",
    "sizes.shape"
   ]
  },
  {
   "cell_type": "code",
   "execution_count": null,
   "metadata": {},
   "outputs": [],
   "source": [
    "leg_1_sizes.shape"
   ]
  },
  {
   "cell_type": "code",
   "execution_count": null,
   "metadata": {},
   "outputs": [],
   "source": [
    "ask_price.shape"
   ]
  },
  {
   "cell_type": "code",
   "execution_count": null,
   "metadata": {},
   "outputs": [],
   "source": [
    "from numba import njit\n",
    "\n",
    "\n",
    "\n",
    "@njit\n",
    "def foo(x, y):\n",
    "    if x is not None:\n",
    "        print(1)\n",
    "\n",
    "foo(None, 2)"
   ]
  },
  {
   "cell_type": "code",
   "execution_count": null,
   "metadata": {},
   "outputs": [],
   "source": [
    "leg_0_bid = np.array(\n",
    "    spreads.apply(lambda s: pickle.loads(s.spread).underlying_col(\"bid_price\").T.iloc[0], axis=1)\n",
    ")\n",
    "leg_1_bid = np.array(\n",
    "    spreads.apply(lambda s: pickle.loads(s.spread).underlying_col(\"bid_price\").T.iloc[1], axis=1)\n",
    ")\n",
    "bid_prices = np.concatenate([leg_0_bid, leg_1_bid], axis=0).T\n",
    "    "
   ]
  },
  {
   "cell_type": "code",
   "execution_count": null,
   "metadata": {},
   "outputs": [],
   "source": [
    "bid_prices.shape"
   ]
  },
  {
   "cell_type": "code",
   "execution_count": null,
   "metadata": {},
   "outputs": [],
   "source": [
    "np.full_like(bid_prices[:29], np.nan).shape"
   ]
  },
  {
   "cell_type": "code",
   "execution_count": null,
   "metadata": {},
   "outputs": [],
   "source": [
    "np.vstack((np.full_like(bid_prices[:29], np.nan), bid_prices))"
   ]
  },
  {
   "cell_type": "code",
   "execution_count": null,
   "metadata": {},
   "outputs": [],
   "source": [
    "np.insert(bid_prices, 0, np.full_like(bid_prices[:29], np.nan))"
   ]
  },
  {
   "cell_type": "code",
   "execution_count": null,
   "metadata": {},
   "outputs": [],
   "source": [
    "\n",
    "quotes = app.data_prep.all_tardis_quotes()\n",
    "quotes"
   ]
  },
  {
   "cell_type": "code",
   "execution_count": null,
   "metadata": {},
   "outputs": [],
   "source": [
    "\n",
    "for idx, row in quotes.iterrows():\n",
    "    exchange, inst_type, symbol = idx\n",
    "    daily_close = app.data_prep.real.cm_client.ohlcv(exchange, symbol, inst_type, \"2023-03-12\", \"2023-04-10\")\n",
    "    if daily_close.close.isna().any():\n",
    "        quotes.drop(idx, inplace=True)\n",
    "        continue\n",
    "        \n",
    "    q = pickle.loads(row.quotes).set_index(\"timestamp\")\n",
    "    q = q.iloc[:9000]\n",
    "    if q.mid_price.isna().any():\n",
    "        quotes.drop(idx, inplace=True)\n",
    "        continue\n",
    "    \n",
    "    combined_prices = pd.concat([q.mid_price, daily_close.set_index(\"open_time\").close], axis=0).sort_index()\n",
    "    q = q.reindex(combined_prices.index)\n",
    "    q[\"mid_price\"] = combined_prices\n",
    "    q.index.name = \"timestamp\"\n",
    "    q = q.reset_index()\n",
    "    quotes.at[idx, \"quotes\"] = pickle.dumps(q)\n",
    "        "
   ]
  },
  {
   "cell_type": "code",
   "execution_count": null,
   "metadata": {},
   "outputs": [],
   "source": [
    "pickle.loads(quotes.iloc[0].quotes).set_index(\"timestamp\").mid_price.plot()"
   ]
  },
  {
   "cell_type": "code",
   "execution_count": null,
   "metadata": {},
   "outputs": [],
   "source": [
    "pickle.loads(quotes.iloc[0].quotes).zscore().plot()"
   ]
  },
  {
   "cell_type": "code",
   "execution_count": null,
   "metadata": {},
   "outputs": [],
   "source": [
    "pickle.loads(quotes.iloc[0].quotes)"
   ]
  },
  {
   "cell_type": "code",
   "execution_count": null,
   "metadata": {},
   "outputs": [],
   "source": [
    "fee_info = app.data_prep.get_fee_info(refresh=False, identifiers=[identifier])\n",
    "fee_info"
   ]
  },
  {
   "cell_type": "code",
   "execution_count": null,
   "metadata": {},
   "outputs": [],
   "source": [
    "instrument_data = quotes.join(fee_info).reorder_levels(quotes.index.names)\n",
    "instrument_data"
   ]
  },
  {
   "cell_type": "code",
   "execution_count": null,
   "metadata": {},
   "outputs": [],
   "source": [
    "instrument_data_crossed = (\n",
    "    instrument_data.reset_index()\n",
    "    .merge(instrument_data.reset_index(), how=\"cross\", suffixes=(\"_a\", \"_b\"))\n",
    "    .pipe(\n",
    "        lambda df: df[\n",
    "            (df.exchange_a < df.exchange_b) & (df.inst_type_a <= df.inst_type_b) & (df.symbol_a == df.symbol_b)\n",
    "        ]\n",
    "    )\n",
    "    .drop(columns=\"symbol_b\")\n",
    "    .rename(columns={\"symbol_a\": \"symbol\"})\n",
    "    .reset_index(drop=True)\n",
    ")\n",
    "del instrument_data\n",
    "instrument_data_crossed\n"
   ]
  },
  {
   "cell_type": "code",
   "execution_count": null,
   "metadata": {},
   "outputs": [],
   "source": [
    "s2 = Spread.from_api(\"1000LUNC\", [\"binance\", \"bybit\"], \"2023-04-10\", \"2023-05-10\")"
   ]
  },
  {
   "cell_type": "code",
   "execution_count": null,
   "metadata": {},
   "outputs": [],
   "source": [
    "s = Spread.from_quotes(pickle.loads(instrument_data_crossed.iloc[0].quotes_a), pickle.loads(instrument_data_crossed.iloc[0].quotes_b))"
   ]
  },
  {
   "cell_type": "code",
   "execution_count": null,
   "metadata": {},
   "outputs": [],
   "source": [
    "\n",
    "@util.cached(\"/tmp/cache/spread_volatility\", refresh=False)\n",
    "def load_volatility():\n",
    "    volatility = pd.DataFrame(\n",
    "        index=pd.MultiIndex.from_arrays(\n",
    "            [[], [], [], [], []], names=[\"exchange_a\", \"exchange_b\", \"inst_type_a\", \"inst_type_b\", \"symbol\"]\n",
    "        )\n",
    "    )\n",
    "    \n",
    "    for idx, row in instrument_data_crossed.iterrows():\n",
    "        indexer = (row.exchange_a, row.exchange_b, row.inst_type_a, row.inst_type_b, row.symbol)\n",
    "        volatility.at[indexer, \"volatility\"] = Spread.from_quotes(pickle.loads(row.quotes_a), pickle.loads(row.quotes_b)).volatility(column=\"bid_price\")\n",
    "        \n",
    "    return volatility\n",
    "\n",
    "volatility = load_volatility()\n",
    "volatility.sort_values(\"volatility\", ascending=False).head(20)"
   ]
  },
  {
   "cell_type": "code",
   "execution_count": null,
   "metadata": {},
   "outputs": [],
   "source": [
    "most_volatile = volatility.sort_values(\"volatility\", ascending=False).head(10)\n",
    "\n",
    "# filtered_idx = (\n",
    "#     most_volatile.reset_index()\n",
    "#     .melt(id_vars=[\"symbol\"], value_vars=[\"exchange_a\", \"exchange_b\"])\n",
    "#     .drop_duplicates()\n",
    "#     .assign(inst_type=\"perpetual\")\n",
    "#     .rename(columns={\"value\": \"exchange\"})[[\"exchange\", \"inst_type\", \"symbol\"]]\n",
    "#     .values.tolist()\n",
    "# )\n",
    "\n",
    "# quotes_filtered = quotes.loc[filtered_idx]\n",
    "# del quotes\n",
    "# quotes_filtered"
   ]
  },
  {
   "cell_type": "code",
   "execution_count": null,
   "metadata": {},
   "outputs": [],
   "source": [
    "instrument_data_crossed = instrument_data_crossed.merge(most_volatile, right_index=True, left_on=[\"exchange_a\", \"exchange_b\", \"inst_type_a\", \"inst_type_b\", \"symbol\"])"
   ]
  },
  {
   "cell_type": "code",
   "execution_count": null,
   "metadata": {},
   "outputs": [],
   "source": [
    "instrument_data_crossed.to_pickle(\"/home/stefano/dev/active/spreads-arb/data/instrument_data_crossed.pkl\")"
   ]
  },
  {
   "cell_type": "code",
   "execution_count": null,
   "metadata": {},
   "outputs": [],
   "source": [
    "instrument_data_crossed = pd.read_pickle(\"/home/stefano/dev/active/spreads-arb/data/instrument_data_crossed.pkl\")"
   ]
  },
  {
   "cell_type": "code",
   "execution_count": null,
   "metadata": {},
   "outputs": [],
   "source": [
    "spreads = pd.DataFrame(\n",
    "    index=pd.MultiIndex.from_arrays(\n",
    "        [[], [], [], [], []], names=[\"exchange_a\", \"exchange_b\", \"inst_type_a\", \"inst_type_b\", \"symbol\"]\n",
    "    )\n",
    ")\n",
    "\n",
    "for idx, row in instrument_data_crossed.iterrows():\n",
    "    indexer_a = (row.exchange_a, row.inst_type_a, row.symbol)\n",
    "    indexer_b = (row.exchange_b, row.inst_type_b, row.symbol)\n",
    "    indexer = (row.exchange_a, row.exchange_b, row.inst_type_a, row.inst_type_b, row.symbol)\n",
    "    spread = Spread.from_quotes(pickle.loads(row.quotes_a), pickle.loads(row.quotes_b))\n",
    "\n",
    "    spreads.at[indexer, \"spread\"] = pickle.dumps(spread)\n",
    "    spreads.at[\n",
    "        indexer, \"alias\"\n",
    "    ] = f\"{row.exchange_a[:4]}_{row.exchange_b[:4]}_{row.inst_type_a[:4]}_{row.inst_type_b[:4]}_{row.symbol}\"\n",
    "    spreads.at[indexer, \"volatility\"] = spread.volatility(column=\"bid_price\")\n",
    "    spreads.at[indexer, \"earliest_time\"] = spread.earliest_time\n",
    "    spreads.at[indexer, \"latest_time\"] = spread.latest_time\n",
    "    spreads.at[indexer, \"valid_rows\"] = len(spread.valid_rows)\n",
    "    spreads.at[indexer, \"missing_rows\"] = len(spread.missing_rows)\n",
    "    spreads.at[indexer, \"gaps\"] = spread.gaps\n",
    "\n",
    "    fee_info_keys = [\"init_margin\", \"maint_margin\", \"fee_pct\", \"fee_fixed\"]\n",
    "    for key in [\"a\", \"b\"]:\n",
    "        spreads.at[indexer, f\"fee_info_{key}\"] = pickle.dumps(\n",
    "            {k: getattr(row, f\"{k}_{key}\") for k in fee_info_keys}\n",
    "        )\n"
   ]
  },
  {
   "cell_type": "code",
   "execution_count": null,
   "metadata": {},
   "outputs": [],
   "source": [
    "spreads.to_pickle(\"/home/stefano/dev/active/spreads-arb/data/granular_spreads.pkl\")"
   ]
  },
  {
   "cell_type": "code",
   "execution_count": null,
   "metadata": {},
   "outputs": [],
   "source": [
    "spreads = pd.read_pickle(\"/home/stefano/dev/active/spreads-arb/data/granular_spreads.pkl\")\n",
    "spread = pickle.loads(spreads.iloc[0].spread)"
   ]
  },
  {
   "cell_type": "code",
   "execution_count": null,
   "metadata": {},
   "outputs": [],
   "source": [
    "spreads"
   ]
  },
  {
   "cell_type": "code",
   "execution_count": null,
   "metadata": {},
   "outputs": [],
   "source": [
    "spread.set_index(\"timestamp\").mid_price.plot()"
   ]
  },
  {
   "cell_type": "code",
   "execution_count": null,
   "metadata": {},
   "outputs": [],
   "source": [
    "spread = pickle.loads(spreads.iloc[0].spread)\n",
    "pd.DataFrame(spread.set_index(\"timestamp\").underlying_col(\"mid_price\")).iloc[30:].plot()"
   ]
  },
  {
   "cell_type": "code",
   "execution_count": null,
   "metadata": {},
   "outputs": [],
   "source": [
    "pd.DataFrame(spread.set_index(\"timestamp\").underlying_col(\"bid_amount\")).iloc[30:].plot()"
   ]
  },
  {
   "cell_type": "code",
   "execution_count": null,
   "metadata": {},
   "outputs": [],
   "source": [
    "spread.iloc[30:]"
   ]
  },
  {
   "cell_type": "code",
   "execution_count": null,
   "metadata": {},
   "outputs": [],
   "source": [
    "quotes.loc[\"bitmex\"]"
   ]
  },
  {
   "cell_type": "code",
   "execution_count": null,
   "metadata": {},
   "outputs": [],
   "source": [
    "spread.ohlcv_list[0].exchange_name"
   ]
  },
  {
   "cell_type": "code",
   "execution_count": null,
   "metadata": {},
   "outputs": [],
   "source": [
    "spread.mid_price.iloc[30:].plot()"
   ]
  },
  {
   "cell_type": "code",
   "execution_count": null,
   "metadata": {},
   "outputs": [],
   "source": [
    "spread.set_index(\"timestamp\").mid_price.head(20)"
   ]
  },
  {
   "cell_type": "code",
   "execution_count": null,
   "metadata": {},
   "outputs": [],
   "source": [
    "spread.set_index(\"timestamp\").mid_price.rolling(\"30D\").mean().reset_index(drop=True).head(200).plot()\n",
    "spread.set_index(\"timestamp\").mid_price.head(200).reset_index(drop=True).plot()"
   ]
  },
  {
   "cell_type": "code",
   "execution_count": null,
   "metadata": {},
   "outputs": [],
   "source": [
    "spread.zscore(\"mid_price\", period=\"30D\").reset_index(drop=True).head(200).plot()"
   ]
  },
  {
   "cell_type": "code",
   "execution_count": null,
   "metadata": {},
   "outputs": [],
   "source": [
    "spread.zscore(\"mid_price\", period=pd.Timedelta(\"30D\"))"
   ]
  },
  {
   "cell_type": "code",
   "execution_count": null,
   "metadata": {},
   "outputs": [],
   "source": [
    "spread.zscore(column=\"mid_price\").iloc[30:].plot()"
   ]
  }
 ],
 "metadata": {
  "kernelspec": {
   "display_name": "spread-arb",
   "language": "python",
   "name": "python3"
  },
  "language_info": {
   "codemirror_mode": {
    "name": "ipython",
    "version": 3
   },
   "file_extension": ".py",
   "mimetype": "text/x-python",
   "name": "python",
   "nbconvert_exporter": "python",
   "pygments_lexer": "ipython3",
   "version": "3.9.12"
  }
 },
 "nbformat": 4,
 "nbformat_minor": 2
}
