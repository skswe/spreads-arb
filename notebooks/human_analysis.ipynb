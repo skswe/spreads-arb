{
 "cells": [
  {
   "cell_type": "code",
   "execution_count": null,
   "metadata": {},
   "outputs": [],
   "source": [
    "%cd /home/stefano/dev/active/spreads-arb\n",
    "%load_ext line_profiler\n",
    "\n",
    "import itertools\n",
    "import logging\n",
    "import os\n",
    "import pickle\n",
    "from datetime import date, datetime, timedelta\n",
    "\n",
    "import cryptomart as cm\n",
    "import numpy as np\n",
    "import pandas as pd\n",
    "import plotly.graph_objects as go\n",
    "from plotly.subplots import make_subplots\n",
    "\n",
    "import requests\n",
    "import vectorbt as vbt\n",
    "\n",
    "import argparse\n",
    "import os\n",
    "import glob\n",
    "import pickle\n",
    "\n",
    "import cryptomart as cm\n",
    "import pandas as pd\n",
    "from app.data_prep.dummy import dummy_bid_ask_spreads\n",
    "from app.data_prep.real import all_bid_ask_spreads, all_funding_rates, all_ohlcv, get_fee_info\n",
    "from app.feeds import Spread\n",
    "import app\n",
    "from IPython.display import display, HTML\n",
    "from functools import cached_property\n",
    "\n",
    "# app.data_prep.real.aggregate_tardis_quotes()\n"
   ]
  },
  {
   "cell_type": "code",
   "execution_count": null,
   "metadata": {},
   "outputs": [],
   "source": [
    "class SpreadViewer:\n",
    "    def __init__(self):\n",
    "        self.path = \"/home/stefano/dev/active/spreads-arb/data/tick_quotes_1m_agg\"\n",
    "        self.filepath_map = pd.Series(index=pd.MultiIndex.from_arrays([[], []], names=[\"exchange\", \"symbol\"]))\n",
    "\n",
    "        for filepath in glob.glob(os.path.join(self.path, \"*\", \"*\")):\n",
    "            *_, exchange, filename = filepath.split(os.path.sep)\n",
    "            symbol = os.path.splitext(filename)[0]\n",
    "            self.filepath_map.at[exchange, symbol] = filepath\n",
    "\n",
    "    def list_exchanges_for_symbol(self, symbol):\n",
    "        return self.filepath_map.loc[:, symbol].dropna().index.tolist()\n",
    "\n",
    "    def load_quote(self, exchange, symbol):\n",
    "        filepath = self.filepath_map.loc[exchange, symbol]\n",
    "        df = pd.read_parquet(filepath)\n",
    "        window = df.mid_price.rolling(30*24*60)\n",
    "        df[\"30_day_zscore\"] = (df.mid_price - window.mean()) / window.std()\n",
    "        return df\n",
    "\n",
    "    def plot_quote(self, exchange=None, symbol=None, hide_daily=True, quote=None):\n",
    "        if quote is not None:\n",
    "            x = quote\n",
    "        else:\n",
    "            x = self.load_quote(exchange, symbol)\n",
    "        if hide_daily:\n",
    "            x = x.loc[\"2023-04-10 00:00:00\":]\n",
    "        # Create subplots with shared x-axis\n",
    "        fig = make_subplots(rows=3, cols=1, shared_xaxes=True, vertical_spacing=0.1, row_heights=[0.5, 0.3, 0.2], specs=[[{\"secondary_y\": True}], [{\"secondary_y\": False}], [{\"secondary_y\": False}]])\n",
    "\n",
    "        # Plot the interpolated data in the first subplot\n",
    "        fig.add_trace(go.Scatter(x=x.index, y=x.bid_price, mode=\"lines\", name=\"bid_price\"), row=1, col=1)\n",
    "        fig.add_trace(go.Scatter(x=x.index, y=x.ask_price, mode=\"lines\", name=\"ask_price\"), row=1, col=1)\n",
    "        fig.add_trace(go.Scatter(x=x.index, y=x.mid_price, mode=\"lines\", name=\"mid_price\"), row=1, col=1)\n",
    "        fig.add_trace(go.Scatter(x=x.index, y=x[\"30_day_zscore\"], mode=\"lines\", name=\"30_day_zscore\"), row=1, col=1, secondary_y=True)\n",
    "        fig.add_trace(go.Scatter(x=x.index, y=x.bid_amount, mode=\"lines\", name=\"bid_amount\"), row=2, col=1)\n",
    "        fig.add_trace(go.Scatter(x=x.index, y=x.ask_amount, mode=\"lines\", name=\"ask_amount\"), row=2, col=1)\n",
    "\n",
    "        \n",
    "        fig.add_trace(go.Scatter(\n",
    "            x=x.index,\n",
    "            y=x.filled.astype(int),\n",
    "            mode=\"lines\",\n",
    "            name=\"filled\",\n",
    "        ), row=3, col=1)\n",
    "\n",
    "        fig.add_shape(\n",
    "            type=\"rect\",\n",
    "            xref=\"paper\",\n",
    "            yref=\"y2\",\n",
    "            x0=0,\n",
    "            y0=1,\n",
    "            x1=1,\n",
    "            y1=-1,\n",
    "            fillcolor=\"gray\",\n",
    "            opacity=0.2,\n",
    "            layer=\"below\",\n",
    "            line_width=0,\n",
    "        )\n",
    "\n",
    "        # Set axes labels and title\n",
    "        fig.update_layout(\n",
    "            height=800,\n",
    "            width=1800,\n",
    "            xaxis_showticklabels=True,\n",
    "            xaxis2_showticklabels=True,\n",
    "            hovermode=\"x unified\",\n",
    "            hoverlabel={\"namelength\": -1},\n",
    "            yaxis2=dict(range=[-3, 3])\n",
    "        )\n",
    "\n",
    "        fig.show()\n",
    "        display(self.quote_stats(exchange, symbol))\n",
    "\n",
    "    def quote_stats(self, exchange, symbol):\n",
    "        quote = self.load_quote(exchange, symbol)\n",
    "        quote = quote.loc[\"2023-04-10 00:00:00\":]\n",
    "        return pd.Series(\n",
    "            {\n",
    "                \"missing_rows\": quote.filled.sum(),\n",
    "                \"missing_pct\": quote.filled.sum() / len(quote),\n",
    "                \"mid_price_variance\": quote.mid_price.var(),\n",
    "                \"bid_size_variance\": quote.bid_amount.var(),\n",
    "                \"ask_size_variance\": quote.ask_amount.var(),\n",
    "                \"start_missing\": quote.iloc[: len(quote) // 3].filled.sum() / (len(quote) // 3),\n",
    "                \"middle_missing\": quote.iloc[(len(quote) // 3) : 2 * len(quote) // 3].filled.sum() / (len(quote) // 3),\n",
    "                \"end_missing\": quote.iloc[2 * (len(quote) // 3) :].filled.sum() / (len(quote) // 3),\n",
    "            }\n",
    "        )\n",
    "        \n",
    "    def load_spread(self, symbol, exchange_0, exchange_1):\n",
    "        exchange_list = self.list_exchanges_for_symbol(symbol)\n",
    "        assert exchange_0 in exchange_list\n",
    "        assert exchange_1 in exchange_list\n",
    "        \n",
    "        df_0 = self.load_quote(exchange_0, symbol)\n",
    "        df_1 = self.load_quote(exchange_1, symbol)\n",
    "        spread = df_0.merge(df_1, left_index=True, right_index=True)\n",
    "        spread[\"bid_price\"] = spread.eval(\"bid_price_y - bid_price_x\")\n",
    "        spread[\"ask_price\"] = spread.eval(\"ask_price_y - ask_price_x\")\n",
    "        spread[\"mid_price\"] = spread.eval(\"mid_price_y - mid_price_x\")\n",
    "        spread[\"bid_amount\"] = spread.eval(\"(bid_amount_y + bid_amount_x) / 2\")\n",
    "        spread[\"ask_amount\"] = spread.eval(\"(ask_amount_y + ask_amount_x) / 2\")\n",
    "        # spread[\"30_day_zscore\"] = (spread.mid_price - spread.mid_price.rolling(60 * 24 * 30).mean()) / spread.mid_price.rolling(60 * 24 * 30).std()\n",
    "        spread[\"30_day_zscore\"] = (spread.mid_price - spread.mid_price.rolling(\"30D\").mean()) / spread.mid_price.rolling(\"30D\").std()\n",
    "        spread.loc[spread[\"30_day_zscore\"] < -1, \"real_price\"] = spread.loc[spread[\"30_day_zscore\"] < -1].eval(\"ask_price_y - bid_price_x\")\n",
    "        spread.loc[spread[\"30_day_zscore\"] < -1, \"real_amount\"] = spread.loc[spread[\"30_day_zscore\"] < -1].apply(lambda df: min(df.ask_amount_y, df.bid_amount_x), axis=1)\n",
    "        spread.loc[spread[\"30_day_zscore\"] > 1, \"real_price\"] = spread.loc[spread[\"30_day_zscore\"] > 1].eval(\"bid_price_y - ask_price_x\")\n",
    "        spread.loc[spread[\"30_day_zscore\"] > 1, \"real_amount\"] = spread.loc[spread[\"30_day_zscore\"] > 1].apply(lambda df: min(df.bid_amount_y, df.ask_amount_x), axis=1)\n",
    "        spread = spread[[\"bid_price\", \"bid_amount\", \"ask_price\", \"ask_amount\", \"mid_price\", \"filled_x\", \"filled_y\", \"30_day_zscore\", \"real_price\", \"real_amount\"]]\n",
    "        return spread\n",
    "        \n",
    "    def plot_spread(self, symbol, exchange_0, exchange_1, hide_daily=True):\n",
    "        x = self.load_spread(symbol, exchange_0, exchange_1)\n",
    "        if hide_daily:\n",
    "            x = x.loc[\"2023-04-10 00:00:00\":]\n",
    "\n",
    "        # Create subplots with shared x-axis\n",
    "        fig = make_subplots(rows=3, cols=1, shared_xaxes=True, vertical_spacing=0.1, row_heights=[0.5, 0.3, 0.2], specs=[[{\"secondary_y\": True}], [{\"secondary_y\": False}], [{\"secondary_y\": False}]])\n",
    "\n",
    "        # Plot the interpolated data in the first subplot\n",
    "        fig.add_trace(go.Scatter(x=x.index, y=x.bid_price, mode=\"lines\", name=\"bid_price\"), row=1, col=1)\n",
    "        fig.add_trace(go.Scatter(x=x.index, y=x.ask_price, mode=\"lines\", name=\"ask_price\"), row=1, col=1)\n",
    "        fig.add_trace(go.Scatter(x=x.index, y=x.mid_price, mode=\"lines\", name=\"mid_price\"), row=1, col=1)\n",
    "        fig.add_trace(go.Scatter(x=x.index, y=x.real_price, mode=\"lines\", name=\"real_price\"), row=1, col=1)\n",
    "        fig.add_trace(go.Scatter(x=x.index, y=x[\"30_day_zscore\"], mode=\"lines\", name=\"30_day_zscore\", opacity=0.4), row=1, col=1, secondary_y=True)\n",
    "        fig.add_trace(go.Scatter(x=x.index, y=x.bid_amount, mode=\"lines\", name=\"bid_amount\"), row=2, col=1)\n",
    "        fig.add_trace(go.Scatter(x=x.index, y=x.ask_amount, mode=\"lines\", name=\"ask_amount\"), row=2, col=1)\n",
    "        fig.add_trace(go.Scatter(x=x.index, y=x.real_amount, mode=\"lines\", name=\"real_amount\"), row=2, col=1)\n",
    "\n",
    "        \n",
    "        fig.add_trace(go.Scatter(\n",
    "            x=x.index,\n",
    "            y=x.filled_x.astype(int),\n",
    "            mode=\"lines\",\n",
    "            name=\"filled_0\",\n",
    "        ), row=3, col=1)\n",
    "        \n",
    "        fig.add_trace(go.Scatter(\n",
    "            x=x.index,\n",
    "            y=x.filled_y.astype(int),\n",
    "            mode=\"lines\",\n",
    "            name=\"filled_1\",\n",
    "        ), row=3, col=1)\n",
    "\n",
    "        fig.add_shape(\n",
    "            type=\"rect\",\n",
    "            xref=\"paper\",\n",
    "            yref=\"y2\",\n",
    "            x0=0,\n",
    "            y0=1,\n",
    "            x1=1,\n",
    "            y1=-1,\n",
    "            fillcolor=\"gray\",\n",
    "            opacity=0.2,\n",
    "            layer=\"below\",\n",
    "            line_width=0,\n",
    "        )\n",
    "\n",
    "        # Set axes labels and title\n",
    "        fig.update_layout(\n",
    "            height=800,\n",
    "            width=1800,\n",
    "            xaxis_showticklabels=True,\n",
    "            xaxis2_showticklabels=True,\n",
    "            hovermode=\"x unified\",\n",
    "            hoverlabel={\"namelength\": -1},\n",
    "            yaxis2=dict(range=[-3, 3])\n",
    "        )\n",
    "\n",
    "        fig.show()  \n",
    "\n",
    "    def spread_stats(self, symbol, exchange_0, exchange_1):\n",
    "        spread = self.load_spread(symbol, exchange_0, exchange_1)\n",
    "        spread = spread.loc[\"2023-04-10 00:00:00\":]\n",
    "        return pd.Series(\n",
    "            {\n",
    "                \"missing_rows_0\": spread.filled_x.sum(),\n",
    "                \"missing_pct_0\": spread.filled_x.sum() / len(spread),\n",
    "                \"missing_rows_1\": spread.filled_y.sum(),\n",
    "                \"missing_pct_1\": spread.filled_y.sum() / len(spread),\n",
    "                \"mid_price_variance\": spread.mid_price.var(),\n",
    "                \"bid_size_variance\": spread.bid_amount.var(),\n",
    "                \"ask_size_variance\": spread.ask_amount.var(),\n",
    "                \"start_missing_0\": spread.iloc[: len(spread) // 3].filled_x.sum() / (len(spread) // 3),\n",
    "                \"middle_missing_0\": spread.iloc[(len(spread) // 3) : 2 * len(spread) // 3].filled_x.sum() / (len(spread) // 3),\n",
    "                \"end_missing_0\": spread.iloc[2 * (len(spread) // 3) :].filled_x.sum() / (len(spread) // 3),\n",
    "                \"start_missing_1\": spread.iloc[: len(spread) // 3].filled_y.sum() / (len(spread) // 3),\n",
    "                \"middle_missing_1\": spread.iloc[(len(spread) // 3) : 2 * len(spread) // 3].filled_y.sum() / (len(spread) // 3),\n",
    "                \"end_missing_1\": spread.iloc[2 * (len(spread) // 3) :].filled_y.sum() / (len(spread) // 3),\n",
    "            }\n",
    "        )\n",
    "\n",
    "    @cached_property\n",
    "    def all_quote_stats(self):\n",
    "        return pd.DataFrame(\n",
    "            {\n",
    "                (exchange, symbol): self.quote_stats(exchange, symbol)\n",
    "                for exchange, symbol in self.filepath_map.index\n",
    "            }\n",
    "        ).T\n",
    "\n",
    "sv = SpreadViewer()"
   ]
  },
  {
   "cell_type": "code",
   "execution_count": null,
   "metadata": {},
   "outputs": [],
   "source": [
    "sv.list_exchanges_for_symbol(\"DOGE\")"
   ]
  },
  {
   "cell_type": "code",
   "execution_count": null,
   "metadata": {},
   "outputs": [],
   "source": [
    "x = sv.load_quote(\"binance\", \"DOGE\")"
   ]
  },
  {
   "cell_type": "code",
   "execution_count": null,
   "metadata": {},
   "outputs": [],
   "source": [
    "x.loc[\"2023-03-12\":\"2023-04-09 23:59\"].resample(\"1d\").first().drop(columns=\"30_day_zscore\")"
   ]
  },
  {
   "cell_type": "code",
   "execution_count": null,
   "metadata": {},
   "outputs": [],
   "source": [
    "sv.plot_quote(\"binance\", \"DOGE\", hide_daily=False)"
   ]
  },
  {
   "cell_type": "code",
   "execution_count": null,
   "metadata": {},
   "outputs": [],
   "source": [
    "sv.plot_quote(\"binance\", \"DOGE\", hide_daily=False)"
   ]
  },
  {
   "cell_type": "code",
   "execution_count": null,
   "metadata": {},
   "outputs": [],
   "source": [
    "sv.plot_quote(quote=pd.concat([x.loc[\"2023-03-11\":\"2023-04-09 23:59\"].resample(\"1d\").first(), x.drop(x.loc[\"2023-03-11\":\"2023-04-09 23:59\"].index)]), hide_daily=False)"
   ]
  },
  {
   "cell_type": "code",
   "execution_count": null,
   "metadata": {},
   "outputs": [],
   "source": [
    "sv.plot_quote(\"binance\", \"DOGE\", hide_daily=False)"
   ]
  },
  {
   "cell_type": "code",
   "execution_count": null,
   "metadata": {},
   "outputs": [],
   "source": [
    "x = sv.load_spread(\"DOGE\", \"binance\", \"bitmex\")"
   ]
  },
  {
   "cell_type": "code",
   "execution_count": null,
   "metadata": {},
   "outputs": [],
   "source": [
    "sv.spread_stats(\"DOGE\", \"binance\", \"bitmex\")"
   ]
  },
  {
   "cell_type": "code",
   "execution_count": null,
   "metadata": {},
   "outputs": [],
   "source": [
    "sv.plot_spread(\"DOGE\", \"binance\", \"bitmex\")"
   ]
  },
  {
   "cell_type": "code",
   "execution_count": null,
   "metadata": {},
   "outputs": [],
   "source": [
    "quote = sv.load_quote(\"binance\", \"BTC\")"
   ]
  },
  {
   "cell_type": "code",
   "execution_count": null,
   "metadata": {},
   "outputs": [],
   "source": [
    "quote.filled.astype(int).sum()"
   ]
  },
  {
   "cell_type": "code",
   "execution_count": null,
   "metadata": {},
   "outputs": [],
   "source": [
    "sv.all_quote_stats.sort_values(\"missing_pct\", ascending=False).head(50)"
   ]
  },
  {
   "cell_type": "code",
   "execution_count": null,
   "metadata": {},
   "outputs": [],
   "source": [
    "sv.plot_quote(\"bybit\", \"AUDIO\")"
   ]
  },
  {
   "cell_type": "code",
   "execution_count": null,
   "metadata": {},
   "outputs": [],
   "source": []
  },
  {
   "cell_type": "code",
   "execution_count": null,
   "metadata": {},
   "outputs": [],
   "source": [
    "sv.quote_stats(\"binance\", \"BTC\")"
   ]
  }
 ],
 "metadata": {
  "kernelspec": {
   "display_name": "spread-arb",
   "language": "python",
   "name": "python3"
  },
  "language_info": {
   "codemirror_mode": {
    "name": "ipython",
    "version": 3
   },
   "file_extension": ".py",
   "mimetype": "text/x-python",
   "name": "python",
   "nbconvert_exporter": "python",
   "pygments_lexer": "ipython3",
   "version": "3.9.12"
  }
 },
 "nbformat": 4,
 "nbformat_minor": 2
}
