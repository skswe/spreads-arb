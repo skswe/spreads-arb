{
 "cells": [
  {
   "cell_type": "code",
   "execution_count": null,
   "metadata": {},
   "outputs": [],
   "source": [
    "import pyutil\n",
    "\n",
    "pyutil.dt_to_unix_time(pyutil.parse_time(1685559227))"
   ]
  },
  {
   "cell_type": "code",
   "execution_count": null,
   "metadata": {},
   "outputs": [],
   "source": [
    "%cd /home/stefano/dev/active/spreads-arb\n",
    "%load_ext line_profiler\n",
    "\n",
    "import itertools\n",
    "import logging\n",
    "import os\n",
    "import pickle\n",
    "from datetime import date, datetime, timedelta\n",
    "\n",
    "import cryptomart as cm\n",
    "import numpy as np\n",
    "import pandas as pd\n",
    "import plotly.graph_objects as go\n",
    "from plotly.subplots import make_subplots\n",
    "\n",
    "# import pyutil\n",
    "# import requests\n",
    "# import vectorbt as vbt\n",
    "\n",
    "# import argparse\n",
    "# import os\n",
    "# import glob\n",
    "# import pickle\n",
    "\n",
    "# import cryptomart as cm\n",
    "# import pandas as pd\n",
    "# from app.data_prep.dummy import dummy_bid_ask_spreads\n",
    "# from app.data_prep.real import all_bid_ask_spreads, all_funding_rates, all_ohlcv, get_fee_info\n",
    "# from app.feeds import Spread\n",
    "# import app\n",
    "# from IPython.display import display, HTML\n",
    "# from functools import cached_property\n",
    "# from app.data_prep.tardis_download import TardisData\n",
    "# from app.analysis_tools import plotting\n",
    "# from app import backtest\n",
    "\n",
    "identifier = \"spread-arb-v2\"\n",
    "# app.data_prep.real.aggregate_tardis_quotes()\n"
   ]
  },
  {
   "cell_type": "code",
   "execution_count": null,
   "metadata": {},
   "outputs": [],
   "source": [
    "x = pd.read_parquet(\"/home/stefano/dev/active/spreads-arb/data/tick_quotes/bybit/BTC.parquet\")"
   ]
  },
  {
   "cell_type": "code",
   "execution_count": null,
   "metadata": {},
   "outputs": [],
   "source": [
    "x.iloc[:50000000].groupby(pd.Grouper(key=\"timestamp\", freq=\"1s\")).count().mean()"
   ]
  },
  {
   "cell_type": "code",
   "execution_count": null,
   "metadata": {},
   "outputs": [],
   "source": [
    "t = app.backtest.get_trades_tool().switch_granularity(\"10m\")"
   ]
  },
  {
   "cell_type": "code",
   "execution_count": null,
   "metadata": {},
   "outputs": [],
   "source": [
    "t.switch_granularity(\"10m\").stats().round(1)"
   ]
  },
  {
   "cell_type": "code",
   "execution_count": null,
   "metadata": {},
   "outputs": [],
   "source": [
    "t.switch_granularity(\"1m\").stats().round(1)"
   ]
  },
  {
   "cell_type": "code",
   "execution_count": null,
   "metadata": {},
   "outputs": [],
   "source": [
    "t.switch_granularity(\"10s\").stats().round(1)"
   ]
  },
  {
   "cell_type": "code",
   "execution_count": null,
   "metadata": {},
   "outputs": [],
   "source": [
    "t.switch_granularity(\"3s\").stats().round(1)"
   ]
  },
  {
   "cell_type": "code",
   "execution_count": null,
   "metadata": {},
   "outputs": [],
   "source": [
    "t.switch_granularity(\"1s\").stats().round(1)"
   ]
  },
  {
   "cell_type": "code",
   "execution_count": null,
   "metadata": {},
   "outputs": [],
   "source": [
    "t.switch_granularity(\"10m\").stats()"
   ]
  },
  {
   "cell_type": "code",
   "execution_count": null,
   "metadata": {},
   "outputs": [],
   "source": [
    "t.switch_granularity(\"1m\").stats()"
   ]
  },
  {
   "cell_type": "code",
   "execution_count": null,
   "metadata": {},
   "outputs": [],
   "source": [
    "t.switch_granularity(\"10s\").stats()"
   ]
  },
  {
   "cell_type": "code",
   "execution_count": null,
   "metadata": {},
   "outputs": [],
   "source": [
    "t.switch_granularity(\"3s\").stats()"
   ]
  },
  {
   "cell_type": "code",
   "execution_count": null,
   "metadata": {},
   "outputs": [],
   "source": [
    "t.switch_granularity(\"1s\").stats()"
   ]
  },
  {
   "cell_type": "code",
   "execution_count": null,
   "metadata": {},
   "outputs": [],
   "source": [
    "t.switch_granularity(\"1s\").top_profit()"
   ]
  },
  {
   "cell_type": "code",
   "execution_count": null,
   "metadata": {},
   "outputs": [],
   "source": [
    "t.switch_granularity(\"1s\").plot(81358, padding=100)"
   ]
  },
  {
   "cell_type": "code",
   "execution_count": null,
   "metadata": {},
   "outputs": [],
   "source": [
    "t.sort_values(\"profit\", ascending=False).head(10)"
   ]
  },
  {
   "cell_type": "code",
   "execution_count": null,
   "metadata": {},
   "outputs": [],
   "source": [
    "t.plot(2421, padding=100)"
   ]
  },
  {
   "cell_type": "code",
   "execution_count": null,
   "metadata": {},
   "outputs": [],
   "source": [
    "t.switch_granularity(\"10m\").top_profit()"
   ]
  },
  {
   "cell_type": "code",
   "execution_count": null,
   "metadata": {},
   "outputs": [],
   "source": [
    "t.switch_granularity(\"10m\").plot(2421, padding=10)"
   ]
  },
  {
   "cell_type": "code",
   "execution_count": null,
   "metadata": {},
   "outputs": [],
   "source": [
    "t.switch_granularity(\"10m\").top_profit().iloc[0].lsh.plot()"
   ]
  },
  {
   "cell_type": "code",
   "execution_count": null,
   "metadata": {},
   "outputs": [],
   "source": [
    "t.switch_granularity(\"10m\").top_profit().iloc[0].lsh.get(pd.Timestamp(\"2023-03-11\"), pd.Timestamp(\"2023-03-12\"))#.pipe(lambda df: df.price_signal.isna().sum())"
   ]
  },
  {
   "cell_type": "code",
   "execution_count": null,
   "metadata": {},
   "outputs": [],
   "source": [
    "x = t.switch_granularity(\"10m\").top_profit().iloc[0].lsh.get().price_signal"
   ]
  },
  {
   "cell_type": "code",
   "execution_count": null,
   "metadata": {},
   "outputs": [],
   "source": [
    "x.rolling(4320, min_periods=1).std().head(149)"
   ]
  },
  {
   "cell_type": "code",
   "execution_count": null,
   "metadata": {},
   "outputs": [],
   "source": [
    "x.rolling(4320, min_periods=1).mean().head(149)"
   ]
  },
  {
   "cell_type": "code",
   "execution_count": null,
   "metadata": {},
   "outputs": [],
   "source": []
  },
  {
   "cell_type": "code",
   "execution_count": null,
   "metadata": {},
   "outputs": [],
   "source": [
    "(x - x.rolling(4320, min_periods=1).mean()) / x.rolling(4320, min_periods=1).std()"
   ]
  },
  {
   "cell_type": "code",
   "execution_count": null,
   "metadata": {},
   "outputs": [],
   "source": [
    "(x - x.rolling(4320, min_periods=1).mean()) "
   ]
  }
 ],
 "metadata": {
  "kernelspec": {
   "display_name": "spread-arb",
   "language": "python",
   "name": "python3"
  },
  "language_info": {
   "codemirror_mode": {
    "name": "ipython",
    "version": 3
   },
   "file_extension": ".py",
   "mimetype": "text/x-python",
   "name": "python",
   "nbconvert_exporter": "python",
   "pygments_lexer": "ipython3",
   "version": "3.9.12"
  }
 },
 "nbformat": 4,
 "nbformat_minor": 2
}
