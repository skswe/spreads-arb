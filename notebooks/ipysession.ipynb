{
 "cells": [
  {
   "cell_type": "code",
   "execution_count": null,
   "metadata": {},
   "outputs": [],
   "source": [
    "import itertools\n",
    "import logging\n",
    "import os\n",
    "import pickle\n",
    "from datetime import date, datetime, timedelta\n",
    "\n",
    "import cryptomart as cm\n",
    "import numpy as np\n",
    "import pandas as pd\n",
    "import plotly.graph_objects as go\n",
    "import requests\n",
    "import vectorbt as vbt\n",
    "\n",
    "os.chdir(os.getenv(\"ACTIVE_DEV_PATH\") + \"/spreads-arb\")\n",
    "\n",
    "import app\n",
    "\n",
    "\n",
    "# Global APIs / Constants\n",
    "cm_client = cm.Client(quiet=True)\n",
    "\n",
    "# We may have different identifiers for different strategies / different datasets used\n",
    "backtest_identifier = \"spread_arb_v2\"\n",
    "z_score_period = 30\n",
    "data_start_filter = pd.to_datetime(datetime(2022, 10, 10))\n"
   ]
  },
  {
   "cell_type": "code",
   "execution_count": null,
   "metadata": {},
   "outputs": [],
   "source": [
    "with open(\"cached_spreads.pkl\", \"rb\") as f:\n",
    "    spreads = pickle.load(f)\n",
    "    \n"
   ]
  },
  {
   "cell_type": "code",
   "execution_count": null,
   "metadata": {},
   "outputs": [],
   "source": [
    "no_funding = BacktestRunner(\n",
    "    log_dir=os.path.join(\n",
    "        os.getenv(\"ACTIVE_DEV_PATH\", \"/home/stefano/development/active_dev\"), \"logs\", \"spreads-arb-v2\"\n",
    "    ),\n",
    "    use_slippage=True,\n",
    "    use_funding_rate=False,\n",
    "    profitable_only=True,\n",
    "    z_score_thresholds=(0, 1),\n",
    "    vbt_function=from_order_func_wrapper_chained,\n",
    ").run_chained(spreads)"
   ]
  },
  {
   "cell_type": "code",
   "execution_count": null,
   "metadata": {},
   "outputs": [],
   "source": [
    "pickle.loads(no_funding.all_spreads.iloc[0].spread).underlying_col(\"funding_rate\")"
   ]
  },
  {
   "cell_type": "code",
   "execution_count": null,
   "metadata": {},
   "outputs": [],
   "source": [
    "no_funding.print_all_trades()"
   ]
  },
  {
   "cell_type": "code",
   "execution_count": null,
   "metadata": {},
   "outputs": [],
   "source": [
    "no_funding.print_all_trades()"
   ]
  }
 ],
 "metadata": {
  "kernelspec": {
   "display_name": "Python 3.9.12 ('spread-arb')",
   "language": "python",
   "name": "python3"
  },
  "language_info": {
   "codemirror_mode": {
    "name": "ipython",
    "version": 3
   },
   "file_extension": ".py",
   "mimetype": "text/x-python",
   "name": "python",
   "nbconvert_exporter": "python",
   "pygments_lexer": "ipython3",
   "version": "3.9.12"
  },
  "vscode": {
   "interpreter": {
    "hash": "edf662c7edfc0f240a8419c34f99e66382b4b464e505b20dc3583bda2481e3a3"
   }
  }
 },
 "nbformat": 4,
 "nbformat_minor": 2
}
