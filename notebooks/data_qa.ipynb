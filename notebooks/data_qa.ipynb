{
 "cells": [
  {
   "cell_type": "code",
   "execution_count": null,
   "metadata": {},
   "outputs": [],
   "source": [
    "%cd /home/stefano/dev/active/spreads-arb\n",
    "%load_ext line_profiler\n",
    "\n",
    "import itertools\n",
    "import logging\n",
    "import os\n",
    "import pickle\n",
    "from datetime import date, datetime, timedelta\n",
    "\n",
    "import cryptomart as cm\n",
    "import numpy as np\n",
    "import pandas as pd\n",
    "import plotly.graph_objects as go\n",
    "import requests\n",
    "import vectorbt as vbt\n",
    "\n",
    "import app\n",
    "\n",
    "identifier = \"spreads-arb-v2\""
   ]
  },
  {
   "cell_type": "code",
   "execution_count": null,
   "metadata": {},
   "outputs": [],
   "source": [
    "ohlcvs = app.data_prep.all_ohlcv(\"2023-02-01\", \"2023-05-04\", \"interval_1h\", refresh=False, identifiers=[identifier])"
   ]
  },
  {
   "cell_type": "code",
   "execution_count": null,
   "metadata": {},
   "outputs": [],
   "source": [
    "ohlcvs = ohlcvs[ohlcvs.missing_rows <= 0]\n",
    "ohlcvs"
   ]
  },
  {
   "cell_type": "code",
   "execution_count": null,
   "metadata": {},
   "outputs": [],
   "source": [
    "def load_slippage(r):\n",
    "    exchange, _, symbol = r.name\n",
    "    try:\n",
    "        slippage = pd.read_pickle(f\"data/bid_ask_spreads_1h/{exchange}/{symbol}.pkl\")\n",
    "    except FileNotFoundError:\n",
    "        r[\"slippage\"] = np.nan\n",
    "        return r\n",
    "    \n",
    "    slippage[\"sum\"] = slippage[\"bid_amount\"] + slippage[\"ask_amount\"]\n",
    "    slippage = slippage.sort_values([\"timestamp\", \"sum\"], ascending=False)\n",
    "    slippage = slippage.groupby(\"timestamp\", as_index=False).apply(lambda g: g.iloc[:3])\n",
    "    slippage[\"idx\"] = slippage.groupby(\"timestamp\").cumcount() + 1\n",
    "    slippage = slippage.pivot(index=\"timestamp\", columns=\"idx\")\n",
    "    slippage = slippage.droplevel(1, axis=1)\n",
    "    slippage = slippage.reindex(pickle.loads(r[\"ohlcv\"]).open_time)\n",
    "\n",
    "    r[\"slippage\"] = pickle.dumps(slippage)\n",
    "    return r\n",
    "\n",
    "slippages = ohlcvs.apply(load_slippage, axis=1)[[\"slippage\"]].dropna()"
   ]
  },
  {
   "cell_type": "code",
   "execution_count": null,
   "metadata": {},
   "outputs": [],
   "source": [
    "ba_spreads = app.data_prep.dummy.dummy_bid_ask_spreads(ohlcvs, 0.002, force_default=True)\n",
    "ba_spreads"
   ]
  },
  {
   "cell_type": "code",
   "execution_count": null,
   "metadata": {},
   "outputs": [],
   "source": [
    "ba_spreads.sort_values(\"avg_slippage\", ascending=True).tail(20)"
   ]
  },
  {
   "cell_type": "code",
   "execution_count": null,
   "metadata": {},
   "outputs": [],
   "source": [
    "fee_info = app.data_prep.get_fee_info(refresh=False, identifiers=[identifier])\n",
    "fee_info"
   ]
  },
  {
   "cell_type": "code",
   "execution_count": null,
   "metadata": {},
   "outputs": [],
   "source": [
    "spreads = app.data_prep.create_spreads(ohlcvs, fee_info, bas=ba_spreads, bas_type=\"mean\")"
   ]
  },
  {
   "cell_type": "code",
   "execution_count": null,
   "metadata": {},
   "outputs": [],
   "source": [
    "spreads"
   ]
  },
  {
   "cell_type": "code",
   "execution_count": null,
   "metadata": {},
   "outputs": [],
   "source": [
    "pd.concat([pickle.loads(spreads.iloc[0].spread).underlying_col(x) for x in [\"bas\", \"bid_amount\", \"ask_amount\"]], axis=1).iloc[550]"
   ]
  },
  {
   "cell_type": "code",
   "execution_count": null,
   "metadata": {},
   "outputs": [],
   "source": [
    "with open(\"data/hourly_sum_slippage.pkl\", \"rb\") as f:\n",
    "    spreads = pickle.load(f)"
   ]
  },
  {
   "cell_type": "code",
   "execution_count": null,
   "metadata": {},
   "outputs": [],
   "source": [
    "spreads.to_pickle(\"data/hourly_sum_slippage.pkl\")"
   ]
  },
  {
   "cell_type": "code",
   "execution_count": null,
   "metadata": {},
   "outputs": [],
   "source": [
    "spreads"
   ]
  },
  {
   "cell_type": "code",
   "execution_count": null,
   "metadata": {},
   "outputs": [],
   "source": [
    "arr = np.stack(\n",
    "    spreads.apply(\n",
    "        lambda s: pd.concat(\n",
    "            [pickle.loads(s.spread).underlying_col(x) for x in [\"bas\", \"bid_amount\", \"ask_amount\"]], axis=1\n",
    "        ),\n",
    "        axis=1,\n",
    "    ),\n",
    "    axis=1,\n",
    ")"
   ]
  },
  {
   "cell_type": "code",
   "execution_count": null,
   "metadata": {},
   "outputs": [],
   "source": [
    "arr.shape"
   ]
  },
  {
   "cell_type": "code",
   "execution_count": null,
   "metadata": {},
   "outputs": [],
   "source": [
    "arr[550, 0, [[0, 6, 12], [3, 9, 15]]].T"
   ]
  },
  {
   "cell_type": "code",
   "execution_count": null,
   "metadata": {},
   "outputs": [],
   "source": [
    "list(np.array([[0, 6, 12], [3, 9, 15]]))"
   ]
  },
  {
   "cell_type": "code",
   "execution_count": null,
   "metadata": {},
   "outputs": [],
   "source": [
    "np.concatenate((np.array([1, 2]), np.array([3, 4])))"
   ]
  },
  {
   "cell_type": "code",
   "execution_count": null,
   "metadata": {},
   "outputs": [],
   "source": []
  },
  {
   "cell_type": "code",
   "execution_count": null,
   "metadata": {},
   "outputs": [],
   "source": [
    "np.nan_to_num(arr[550, 0].T, nan=0)"
   ]
  },
  {
   "cell_type": "code",
   "execution_count": null,
   "metadata": {},
   "outputs": [],
   "source": [
    "from numba import njit\n",
    "@njit\n",
    "def foo3(arr):\n",
    "    print(arr[550, 0, [0, 6, 12]].T)\n",
    "foo3(arr)"
   ]
  },
  {
   "cell_type": "code",
   "execution_count": null,
   "metadata": {},
   "outputs": [],
   "source": [
    "from numba import njit\n",
    "\n",
    "\n",
    "@njit\n",
    "def foo2(arr):\n",
    "    trade_sizes = np.array([-214, 283])\n",
    "    slippage_ = np.array([0.0, 0.0])\n",
    "    arr = arr[550, 0]\n",
    "    for leg in range(2):\n",
    "        side_idx = 1 if trade_sizes[leg] > 0 else 0\n",
    "        order_amt = abs(trade_sizes[leg])\n",
    "        \n",
    "        for lv in range(3):\n",
    "            slip = arr[leg*3 + lv]\n",
    "            if np.isnan(slip):\n",
    "                continue\n",
    "            slip_amt = arr[leg*3 + 6*side_idx + 6+lv]\n",
    "            leftover = max(order_amt - slip_amt, 0)\n",
    "            \n",
    "            slippage_[leg] += ((order_amt - leftover) / order_amt) * slip\n",
    "            \n",
    "            if leftover == 0:\n",
    "                break\n",
    "        \n",
    "        if leftover > 0:\n",
    "            slippage_[leg] *= 1.5\n",
    "            \n",
    "        print(leg, slippage_[leg])\n",
    "            \n",
    "foo2(arr)"
   ]
  },
  {
   "cell_type": "code",
   "execution_count": null,
   "metadata": {},
   "outputs": [],
   "source": [
    "res = app.BacktestRunner(\n",
    "    log_dir=os.path.join(\n",
    "        os.getenv(\"ACTIVE_DEV_PATH\", \"/home/stefano/development/active_dev\"), \"logs\", \"spreads-arb-v2\"\n",
    "    ),\n",
    "    use_slippage=True,\n",
    "    slippage_type=\"mean\",\n",
    "    use_funding_rate=False,\n",
    "    profitable_only=True,\n",
    "    z_score_thresholds=(0, 1),\n",
    "    z_score_period=500,\n",
    ").run_chained(spreads)"
   ]
  },
  {
   "cell_type": "code",
   "execution_count": null,
   "metadata": {},
   "outputs": [],
   "source": [
    "res.zscores"
   ]
  },
  {
   "cell_type": "code",
   "execution_count": null,
   "metadata": {},
   "outputs": [],
   "source": [
    "res.close_prices"
   ]
  },
  {
   "cell_type": "code",
   "execution_count": null,
   "metadata": {},
   "outputs": [],
   "source": [
    "res.orders"
   ]
  },
  {
   "cell_type": "code",
   "execution_count": null,
   "metadata": {},
   "outputs": [],
   "source": [
    "res.trades"
   ]
  },
  {
   "cell_type": "code",
   "execution_count": null,
   "metadata": {},
   "outputs": [],
   "source": [
    "batch = res.batch_run([0.001, 0.0015, 0.002, 0.0025, 0.003, 0.0035, 0.004])"
   ]
  },
  {
   "cell_type": "code",
   "execution_count": null,
   "metadata": {},
   "outputs": [],
   "source": [
    "batch"
   ]
  },
  {
   "cell_type": "code",
   "execution_count": null,
   "metadata": {},
   "outputs": [],
   "source": [
    "res.aggregate_stats()"
   ]
  },
  {
   "cell_type": "code",
   "execution_count": null,
   "metadata": {},
   "outputs": [],
   "source": [
    "res.print_all_trades()"
   ]
  },
  {
   "cell_type": "code",
   "execution_count": null,
   "metadata": {},
   "outputs": [],
   "source": [
    "positions = (\n",
    "    res.portfolio.assets()\n",
    "    .set_axis(range(len(spreads) * 2), axis=1)\n",
    "    .melt(var_name=\"col\", ignore_index=False)\n",
    "    .pipe(lambda df: df[df.value != 0])\n",
    "    .reset_index()\n",
    ")\n",
    "\n",
    "positions_0 = positions[positions.col < len(spreads)].rename(columns={\"col\": \"col_0\", \"value\": \"value_0\"})\n",
    "positions_1 = positions[positions.col >= len(spreads)].rename(columns={\"col\": \"col_1\", \"value\": \"value_1\"})\n",
    "positions = positions_0.merge(positions_1).sort_values(\"open_time\")\n",
    "positions = (\n",
    "    positions.merge(res.close_prices, left_on=[\"open_time\", \"col_0\"], right_on=[\"Timestamp\", \"col\"], how=\"right\")\n",
    "    .rename(columns={\"close\": \"close_0\"})\n",
    "    .drop(columns=[\"col\", \"open_time\"])\n",
    "    .drop_duplicates([\"Timestamp\", \"col_0\", \"col_1\"])\n",
    ")\n",
    "# positions = (\n",
    "#     positions.merge(res.close_prices, left_on=[\"Timestamp\", \"col_1\"], right_on=[\"Timestamp\", \"col\"], how=\"right\")\n",
    "#     .rename(columns={\"close\": \"close_1\"})\n",
    "#     .drop(columns=\"col\")\n",
    "#     .drop_duplicates(\"Timestamp\")\n",
    "# )\n",
    "# positions = positions.merge(\n",
    "#     res.zscores(period=res.z_score_period), left_on=[\"Timestamp\", \"col_0\"], right_on=[\"open_time\", \"col\"], how=\"right\"\n",
    "# ).drop(columns=\"col\")"
   ]
  },
  {
   "cell_type": "code",
   "execution_count": null,
   "metadata": {},
   "outputs": [],
   "source": [
    "positions"
   ]
  },
  {
   "cell_type": "code",
   "execution_count": null,
   "metadata": {},
   "outputs": [],
   "source": [
    "positions.merge(res.close_prices, left_on=[\"Timestamp\", \"col_1\"], right_on=[\"Timestamp\", \"col\"], how=\"right\")"
   ]
  },
  {
   "cell_type": "code",
   "execution_count": null,
   "metadata": {},
   "outputs": [],
   "source": [
    "res.plot()"
   ]
  }
 ],
 "metadata": {
  "kernelspec": {
   "display_name": "spread-arb",
   "language": "python",
   "name": "python3"
  },
  "language_info": {
   "codemirror_mode": {
    "name": "ipython",
    "version": 3
   },
   "file_extension": ".py",
   "mimetype": "text/x-python",
   "name": "python",
   "nbconvert_exporter": "python",
   "pygments_lexer": "ipython3",
   "version": "3.9.12"
  }
 },
 "nbformat": 4,
 "nbformat_minor": 2
}
